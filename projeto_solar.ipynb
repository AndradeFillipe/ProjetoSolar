{
 "metadata": {
  "language_info": {
   "codemirror_mode": {
    "name": "ipython",
    "version": 3
   },
   "file_extension": ".py",
   "mimetype": "text/x-python",
   "name": "python",
   "nbconvert_exporter": "python",
   "pygments_lexer": "ipython3",
   "version": "3.8.8"
  },
  "orig_nbformat": 2,
  "kernelspec": {
   "name": "python388jvsc74a57bd0aaed9475a16930d24dfe134bd67d0dfd0ad3d29344f925446af263d3c02c3ba9",
   "display_name": "Python 3.8.8 64-bit (conda)"
  },
  "metadata": {
   "interpreter": {
    "hash": "15dc0c28dd680247313ffcfa6d4da627591e97ec496f5d3bf7b246a8ef129b52"
   }
  }
 },
 "nbformat": 4,
 "nbformat_minor": 2,
 "cells": [
  {
   "cell_type": "code",
   "execution_count": 10,
   "metadata": {},
   "outputs": [],
   "source": [
    "#importação das bibliotecas iniciais\n",
    "import pandas as pd\n",
    "import numpy as np\n",
    "import matplotlib.pyplot as plt\n",
    "import seaborn as sns\n",
    "sns.set(color_codes=True)\n",
    "%matplotlib inline "
   ]
  },
  {
   "cell_type": "code",
   "execution_count": 14,
   "metadata": {},
   "outputs": [],
   "source": [
    "#carregamento da base de dados da usina\n",
    "geracao = pd.read_csv('dados\\Plant_1_Generation_Data.csv')\n",
    "clima = pd.read_csv('dados\\Plant_1_Weather_Sensor_Data.csv')"
   ]
  },
  {
   "cell_type": "code",
   "execution_count": 16,
   "metadata": {},
   "outputs": [
    {
     "output_type": "execute_result",
     "data": {
      "text/plain": [
       "             DATE_TIME  PLANT_ID       SOURCE_KEY  AMBIENT_TEMPERATURE  \\\n",
       "0  2020-05-15 00:00:00   4135001  HmiyD2TTLFNqkNe            25.184316   \n",
       "1  2020-05-15 00:15:00   4135001  HmiyD2TTLFNqkNe            25.084589   \n",
       "2  2020-05-15 00:30:00   4135001  HmiyD2TTLFNqkNe            24.935753   \n",
       "3  2020-05-15 00:45:00   4135001  HmiyD2TTLFNqkNe            24.846130   \n",
       "4  2020-05-15 01:00:00   4135001  HmiyD2TTLFNqkNe            24.621525   \n",
       "\n",
       "   MODULE_TEMPERATURE  IRRADIATION  \n",
       "0           22.857507          0.0  \n",
       "1           22.761668          0.0  \n",
       "2           22.592306          0.0  \n",
       "3           22.360852          0.0  \n",
       "4           22.165423          0.0  "
      ],
      "text/html": "<div>\n<style scoped>\n    .dataframe tbody tr th:only-of-type {\n        vertical-align: middle;\n    }\n\n    .dataframe tbody tr th {\n        vertical-align: top;\n    }\n\n    .dataframe thead th {\n        text-align: right;\n    }\n</style>\n<table border=\"1\" class=\"dataframe\">\n  <thead>\n    <tr style=\"text-align: right;\">\n      <th></th>\n      <th>DATE_TIME</th>\n      <th>PLANT_ID</th>\n      <th>SOURCE_KEY</th>\n      <th>AMBIENT_TEMPERATURE</th>\n      <th>MODULE_TEMPERATURE</th>\n      <th>IRRADIATION</th>\n    </tr>\n  </thead>\n  <tbody>\n    <tr>\n      <th>0</th>\n      <td>2020-05-15 00:00:00</td>\n      <td>4135001</td>\n      <td>HmiyD2TTLFNqkNe</td>\n      <td>25.184316</td>\n      <td>22.857507</td>\n      <td>0.0</td>\n    </tr>\n    <tr>\n      <th>1</th>\n      <td>2020-05-15 00:15:00</td>\n      <td>4135001</td>\n      <td>HmiyD2TTLFNqkNe</td>\n      <td>25.084589</td>\n      <td>22.761668</td>\n      <td>0.0</td>\n    </tr>\n    <tr>\n      <th>2</th>\n      <td>2020-05-15 00:30:00</td>\n      <td>4135001</td>\n      <td>HmiyD2TTLFNqkNe</td>\n      <td>24.935753</td>\n      <td>22.592306</td>\n      <td>0.0</td>\n    </tr>\n    <tr>\n      <th>3</th>\n      <td>2020-05-15 00:45:00</td>\n      <td>4135001</td>\n      <td>HmiyD2TTLFNqkNe</td>\n      <td>24.846130</td>\n      <td>22.360852</td>\n      <td>0.0</td>\n    </tr>\n    <tr>\n      <th>4</th>\n      <td>2020-05-15 01:00:00</td>\n      <td>4135001</td>\n      <td>HmiyD2TTLFNqkNe</td>\n      <td>24.621525</td>\n      <td>22.165423</td>\n      <td>0.0</td>\n    </tr>\n  </tbody>\n</table>\n</div>"
     },
     "metadata": {},
     "execution_count": 16
    }
   ],
   "source": [
    "#escopo geral da base de dados\n",
    "geracao.head()\n",
    "clima.head()"
   ]
  },
  {
   "cell_type": "code",
   "execution_count": 17,
   "metadata": {},
   "outputs": [
    {
     "output_type": "execute_result",
     "data": {
      "text/plain": [
       "        PLANT_ID  AMBIENT_TEMPERATURE  MODULE_TEMPERATURE  IRRADIATION\n",
       "count     3182.0          3182.000000         3182.000000  3182.000000\n",
       "mean   4135001.0            25.531606           31.091015     0.228313\n",
       "std          0.0             3.354856           12.261222     0.300836\n",
       "min    4135001.0            20.398505           18.140415     0.000000\n",
       "25%    4135001.0            22.705182           21.090553     0.000000\n",
       "50%    4135001.0            24.613814           24.618060     0.024653\n",
       "75%    4135001.0            27.920532           41.307840     0.449588\n",
       "max    4135001.0            35.252486           65.545714     1.221652"
      ],
      "text/html": "<div>\n<style scoped>\n    .dataframe tbody tr th:only-of-type {\n        vertical-align: middle;\n    }\n\n    .dataframe tbody tr th {\n        vertical-align: top;\n    }\n\n    .dataframe thead th {\n        text-align: right;\n    }\n</style>\n<table border=\"1\" class=\"dataframe\">\n  <thead>\n    <tr style=\"text-align: right;\">\n      <th></th>\n      <th>PLANT_ID</th>\n      <th>AMBIENT_TEMPERATURE</th>\n      <th>MODULE_TEMPERATURE</th>\n      <th>IRRADIATION</th>\n    </tr>\n  </thead>\n  <tbody>\n    <tr>\n      <th>count</th>\n      <td>3182.0</td>\n      <td>3182.000000</td>\n      <td>3182.000000</td>\n      <td>3182.000000</td>\n    </tr>\n    <tr>\n      <th>mean</th>\n      <td>4135001.0</td>\n      <td>25.531606</td>\n      <td>31.091015</td>\n      <td>0.228313</td>\n    </tr>\n    <tr>\n      <th>std</th>\n      <td>0.0</td>\n      <td>3.354856</td>\n      <td>12.261222</td>\n      <td>0.300836</td>\n    </tr>\n    <tr>\n      <th>min</th>\n      <td>4135001.0</td>\n      <td>20.398505</td>\n      <td>18.140415</td>\n      <td>0.000000</td>\n    </tr>\n    <tr>\n      <th>25%</th>\n      <td>4135001.0</td>\n      <td>22.705182</td>\n      <td>21.090553</td>\n      <td>0.000000</td>\n    </tr>\n    <tr>\n      <th>50%</th>\n      <td>4135001.0</td>\n      <td>24.613814</td>\n      <td>24.618060</td>\n      <td>0.024653</td>\n    </tr>\n    <tr>\n      <th>75%</th>\n      <td>4135001.0</td>\n      <td>27.920532</td>\n      <td>41.307840</td>\n      <td>0.449588</td>\n    </tr>\n    <tr>\n      <th>max</th>\n      <td>4135001.0</td>\n      <td>35.252486</td>\n      <td>65.545714</td>\n      <td>1.221652</td>\n    </tr>\n  </tbody>\n</table>\n</div>"
     },
     "metadata": {},
     "execution_count": 17
    }
   ],
   "source": [
    "#descrição do comportamento das varáveis dos dados\n",
    "geracao.describe()\n",
    "clima.describe()"
   ]
  },
  {
   "cell_type": "code",
   "execution_count": 22,
   "metadata": {},
   "outputs": [
    {
     "output_type": "stream",
     "name": "stdout",
     "text": [
      "Quantidade de elemesntos nulo da geração:\nDATE_TIME      0\nPLANT_ID       0\nSOURCE_KEY     0\nDC_POWER       0\nAC_POWER       0\nDAILY_YIELD    0\nTOTAL_YIELD    0\ndtype: int64\nQuantidade de elemesntos nulo ddo clima:\nDATE_TIME              0\nPLANT_ID               0\nSOURCE_KEY             0\nAMBIENT_TEMPERATURE    0\nMODULE_TEMPERATURE     0\nIRRADIATION            0\ndtype: int64\n"
     ]
    }
   ],
   "source": [
    "a = geracao.isnull().sum()\n",
    "b = clima.isnull().sum()\n",
    "print(f'Quantidade de elemesntos nulo da geração:\\n{a}')\n",
    "print(f'Quantidade de elemesntos nulo ddo clima:\\n{b}')"
   ]
  },
  {
   "cell_type": "code",
   "execution_count": 23,
   "metadata": {},
   "outputs": [],
   "source": [
    "#Convertendo as datas para DateTime\n",
    "geracao['DATE_TIME'] = pd.to_datetime(geracao['DATE_TIME'],format = '%d-%m-%Y %H:%M')\n",
    "clima['DATE_TIME'] = pd.to_datetime(clima['DATE_TIME'],format = '%Y-%m-%d %H:%M')"
   ]
  },
  {
   "cell_type": "code",
   "execution_count": 25,
   "metadata": {},
   "outputs": [],
   "source": [
    "#criando colunas para tempo e data\n",
    "geracao['DATE'] = geracao['DATE_TIME'].apply(lambda x:x.date())\n",
    "geracao['TIME'] = geracao['DATE_TIME'].apply(lambda x:x.time())\n",
    "clima['DATE'] = clima['DATE_TIME'].apply(lambda x:x.date())\n",
    "clima['TIME'] = clima['DATE_TIME'].apply(lambda x:x.time())"
   ]
  },
  {
   "cell_type": "code",
   "execution_count": null,
   "metadata": {},
   "outputs": [],
   "source": []
  }
 ]
}